{
 "cells": [
  {
   "cell_type": "markdown",
   "metadata": {},
   "source": [
    "# Roseanne Tweets Anlaysis"
   ]
  },
  {
   "cell_type": "code",
   "execution_count": 1,
   "metadata": {
    "collapsed": true
   },
   "outputs": [],
   "source": [
    "import numpy as np\n",
    "import pandas as pd\n",
    "import matplotlib.pyplot as plt\n",
    "import seaborn as sns\n",
    "% matplotlib inline"
   ]
  },
  {
   "cell_type": "markdown",
   "metadata": {},
   "source": [
    "## Read the csv file"
   ]
  },
  {
   "cell_type": "code",
   "execution_count": 2,
   "metadata": {
    "collapsed": true
   },
   "outputs": [],
   "source": [
    "df = pd.read_csv(filepath_or_buffer = \"finalDataV1.csv\")"
   ]
  },
  {
   "cell_type": "code",
   "execution_count": 3,
   "metadata": {},
   "outputs": [
    {
     "data": {
      "text/html": [
       "<div>\n",
       "<style>\n",
       "    .dataframe thead tr:only-child th {\n",
       "        text-align: right;\n",
       "    }\n",
       "\n",
       "    .dataframe thead th {\n",
       "        text-align: left;\n",
       "    }\n",
       "\n",
       "    .dataframe tbody tr th {\n",
       "        vertical-align: top;\n",
       "    }\n",
       "</style>\n",
       "<table border=\"1\" class=\"dataframe\">\n",
       "  <thead>\n",
       "    <tr style=\"text-align: right;\">\n",
       "      <th></th>\n",
       "      <th>Code</th>\n",
       "      <th>Tweet</th>\n",
       "    </tr>\n",
       "  </thead>\n",
       "  <tbody>\n",
       "    <tr>\n",
       "      <th>0</th>\n",
       "      <td>Neither</td>\n",
       "      <td>RoseanneBarr</td>\n",
       "    </tr>\n",
       "    <tr>\n",
       "      <th>1</th>\n",
       "      <td>Neither</td>\n",
       "      <td>@iAmLoraG @therealroseanne that's my ted talk....</td>\n",
       "    </tr>\n",
       "    <tr>\n",
       "      <th>2</th>\n",
       "      <td>Anti-Roseanne</td>\n",
       "      <td>@axios @therealroseanne @realDonaldTrump one r...</td>\n",
       "    </tr>\n",
       "    <tr>\n",
       "      <th>3</th>\n",
       "      <td>Anti-Roseanne</td>\n",
       "      <td>@therealroseanne Bye!</td>\n",
       "    </tr>\n",
       "    <tr>\n",
       "      <th>4</th>\n",
       "      <td>Anti-Roseanne</td>\n",
       "      <td>@JustinUtley @Stefanoooch @cnnbrk Roseanne del...</td>\n",
       "    </tr>\n",
       "    <tr>\n",
       "      <th>5</th>\n",
       "      <td>Pro-Roseanne</td>\n",
       "      <td>.@therealroseanne they were looking for a reas...</td>\n",
       "    </tr>\n",
       "    <tr>\n",
       "      <th>6</th>\n",
       "      <td>Anti-Roseanne</td>\n",
       "      <td>@POTUS_Don45 @Melissa89431446 @therealroseanne...</td>\n",
       "    </tr>\n",
       "    <tr>\n",
       "      <th>7</th>\n",
       "      <td>Anti-Roseanne</td>\n",
       "      <td>Yayyyyy! Buh-bye @therealroseanne</td>\n",
       "    </tr>\n",
       "    <tr>\n",
       "      <th>8</th>\n",
       "      <td>Neither</td>\n",
       "      <td>Robert Iger on the cancellation of 'Roseanne' ...</td>\n",
       "    </tr>\n",
       "    <tr>\n",
       "      <th>9</th>\n",
       "      <td>Neither</td>\n",
       "      <td>@ryan90_chris @FoxNews @KevinCate @dailybriefi...</td>\n",
       "    </tr>\n",
       "    <tr>\n",
       "      <th>10</th>\n",
       "      <td>Neither</td>\n",
       "      <td>@AmandaNHardwic1 @attridgj @CaughtYa164 @there...</td>\n",
       "    </tr>\n",
       "    <tr>\n",
       "      <th>11</th>\n",
       "      <td>Anti-Roseanne</td>\n",
       "      <td>Dear @ABCNetwork thank you for canceling @ther...</td>\n",
       "    </tr>\n",
       "    <tr>\n",
       "      <th>12</th>\n",
       "      <td>Anti-Roseanne</td>\n",
       "      <td>@Glinner You can almost  guarantee that Rod Li...</td>\n",
       "    </tr>\n",
       "    <tr>\n",
       "      <th>13</th>\n",
       "      <td>Neither</td>\n",
       "      <td>BREAKING: ABC cancels Roseanne - https://t.co/...</td>\n",
       "    </tr>\n",
       "    <tr>\n",
       "      <th>14</th>\n",
       "      <td>Neither</td>\n",
       "      <td>Roseanne' Canceled by ABC After Roseanne Barr'...</td>\n",
       "    </tr>\n",
       "    <tr>\n",
       "      <th>15</th>\n",
       "      <td>Neither</td>\n",
       "      <td>@Toure lol 'toure' has a podcast Roseanne.  KE...</td>\n",
       "    </tr>\n",
       "    <tr>\n",
       "      <th>16</th>\n",
       "      <td>Anti-Roseanne</td>\n",
       "      <td>So self-centered Trump supporter</td>\n",
       "    </tr>\n",
       "    <tr>\n",
       "      <th>17</th>\n",
       "      <td>Neither</td>\n",
       "      <td>Roseanne</td>\n",
       "    </tr>\n",
       "    <tr>\n",
       "      <th>18</th>\n",
       "      <td>Neither</td>\n",
       "      <td>@starofthenight5 @therealroseanne I bet you pr...</td>\n",
       "    </tr>\n",
       "    <tr>\n",
       "      <th>19</th>\n",
       "      <td>Pro-Roseanne</td>\n",
       "      <td>Roseanne innocent!</td>\n",
       "    </tr>\n",
       "    <tr>\n",
       "      <th>20</th>\n",
       "      <td>Anti-Roseanne</td>\n",
       "      <td>I was a fan of the old Roseanne show now I'll ...</td>\n",
       "    </tr>\n",
       "    <tr>\n",
       "      <th>21</th>\n",
       "      <td>Anti-Roseanne</td>\n",
       "      <td>Surprised they finally cancelled Roseanne cons...</td>\n",
       "    </tr>\n",
       "    <tr>\n",
       "      <th>22</th>\n",
       "      <td>Neither</td>\n",
       "      <td>@therealroseanne  https://t.co/TeG3pq3GDw</td>\n",
       "    </tr>\n",
       "    <tr>\n",
       "      <th>23</th>\n",
       "      <td>Neither</td>\n",
       "      <td>Mmmmm not being rude but Sara Gilbert's involv...</td>\n",
       "    </tr>\n",
       "    <tr>\n",
       "      <th>24</th>\n",
       "      <td>Anti-Roseanne</td>\n",
       "      <td>@CarJoJoe @TT45Pac @therealroseanne Asshole = ...</td>\n",
       "    </tr>\n",
       "    <tr>\n",
       "      <th>25</th>\n",
       "      <td>Anti-Roseanne</td>\n",
       "      <td>@Jordan_Sather_ @therealroseanne What lie? Did...</td>\n",
       "    </tr>\n",
       "    <tr>\n",
       "      <th>26</th>\n",
       "      <td>Neither</td>\n",
       "      <td>@emrazz And @ABCNetwork cancelled Roseanne!</td>\n",
       "    </tr>\n",
       "    <tr>\n",
       "      <th>27</th>\n",
       "      <td>Neither</td>\n",
       "      <td>@intheMatrixxx @therealroseanne @snopes @ander...</td>\n",
       "    </tr>\n",
       "    <tr>\n",
       "      <th>28</th>\n",
       "      <td>Neither</td>\n",
       "      <td>@mojopo @therealroseanne @ChelseaClinton @Open...</td>\n",
       "    </tr>\n",
       "    <tr>\n",
       "      <th>29</th>\n",
       "      <td>Neither</td>\n",
       "      <td>Roseanne</td>\n",
       "    </tr>\n",
       "    <tr>\n",
       "      <th>...</th>\n",
       "      <td>...</td>\n",
       "      <td>...</td>\n",
       "    </tr>\n",
       "    <tr>\n",
       "      <th>5846</th>\n",
       "      <td>Neither</td>\n",
       "      <td>RoseanneBarred</td>\n",
       "    </tr>\n",
       "    <tr>\n",
       "      <th>5847</th>\n",
       "      <td>Neither</td>\n",
       "      <td>@FgtTheOligarchy @therealroseanne What did he ...</td>\n",
       "    </tr>\n",
       "    <tr>\n",
       "      <th>5848</th>\n",
       "      <td>Pro-Roseanne</td>\n",
       "      <td>ABC/ Disney has a double standard like no othe...</td>\n",
       "    </tr>\n",
       "    <tr>\n",
       "      <th>5849</th>\n",
       "      <td>Pro-Roseanne</td>\n",
       "      <td>not good folks Roseanne Barr</td>\n",
       "    </tr>\n",
       "    <tr>\n",
       "      <th>5850</th>\n",
       "      <td>Anti-Roseanne</td>\n",
       "      <td>[1 yr ago] ABC boardroom: We're confident the ...</td>\n",
       "    </tr>\n",
       "    <tr>\n",
       "      <th>5851</th>\n",
       "      <td>Anti-Roseanne</td>\n",
       "      <td>when you're company makes news ..  for doing t...</td>\n",
       "    </tr>\n",
       "    <tr>\n",
       "      <th>5852</th>\n",
       "      <td>Pro-Roseanne</td>\n",
       "      <td>@ABCNetwork FUCK ABC for cancelling Roseanne y...</td>\n",
       "    </tr>\n",
       "    <tr>\n",
       "      <th>5853</th>\n",
       "      <td>Neither</td>\n",
       "      <td>HuffPostWomen: \"Roseanne's Twitter statement i...</td>\n",
       "    </tr>\n",
       "    <tr>\n",
       "      <th>5854</th>\n",
       "      <td>Neither</td>\n",
       "      <td>Maybe replace Roseanne with a New Orleans-set ...</td>\n",
       "    </tr>\n",
       "    <tr>\n",
       "      <th>5855</th>\n",
       "      <td>Neither</td>\n",
       "      <td>@realDonaldTrump  I am anxiously looking forwa...</td>\n",
       "    </tr>\n",
       "    <tr>\n",
       "      <th>5856</th>\n",
       "      <td>Anti-Roseanne</td>\n",
       "      <td>ABC cancels 'Roseanne' after star's racist.   ...</td>\n",
       "    </tr>\n",
       "    <tr>\n",
       "      <th>5857</th>\n",
       "      <td>Neither</td>\n",
       "      <td>SheTriedIt</td>\n",
       "    </tr>\n",
       "    <tr>\n",
       "      <th>5858</th>\n",
       "      <td>Pro-Roseanne</td>\n",
       "      <td>Extremely turgid about this Roseanne news</td>\n",
       "    </tr>\n",
       "    <tr>\n",
       "      <th>5859</th>\n",
       "      <td>Neither</td>\n",
       "      <td>TeluguSamethalu</td>\n",
       "    </tr>\n",
       "    <tr>\n",
       "      <th>5860</th>\n",
       "      <td>Anti-Roseanne</td>\n",
       "      <td>@brick_lisa @alt_labor @therealroseanne Did yo...</td>\n",
       "    </tr>\n",
       "    <tr>\n",
       "      <th>5861</th>\n",
       "      <td>Anti-Roseanne</td>\n",
       "      <td>@therealroseanne Chicken shit.</td>\n",
       "    </tr>\n",
       "    <tr>\n",
       "      <th>5862</th>\n",
       "      <td>Pro-Roseanne</td>\n",
       "      <td>@therealroseanne Unbelievable that comedy is c...</td>\n",
       "    </tr>\n",
       "    <tr>\n",
       "      <th>5863</th>\n",
       "      <td>Anti-Roseanne</td>\n",
       "      <td>roseanne was cancelled</td>\n",
       "    </tr>\n",
       "    <tr>\n",
       "      <th>5864</th>\n",
       "      <td>Anti-Roseanne</td>\n",
       "      <td>@ShaunKing Well done @ShaunKing 'ABC says it h...</td>\n",
       "    </tr>\n",
       "    <tr>\n",
       "      <th>5865</th>\n",
       "      <td>Anti-Roseanne</td>\n",
       "      <td>@therealroseanne  take your bullshit elsewhere...</td>\n",
       "    </tr>\n",
       "    <tr>\n",
       "      <th>5866</th>\n",
       "      <td>Pro-Roseanne</td>\n",
       "      <td>We ALL make mistakes.  Roseanne apologized. Sh...</td>\n",
       "    </tr>\n",
       "    <tr>\n",
       "      <th>5867</th>\n",
       "      <td>Anti-Roseanne</td>\n",
       "      <td>@ReneePostula @therealroseanne Dummy.....it on...</td>\n",
       "    </tr>\n",
       "    <tr>\n",
       "      <th>5868</th>\n",
       "      <td>Anti-Roseanne</td>\n",
       "      <td>Is it appropriate to call Roseanne a bitch? I'...</td>\n",
       "    </tr>\n",
       "    <tr>\n",
       "      <th>5869</th>\n",
       "      <td>Neither</td>\n",
       "      <td>@RealAlexJones @therealroseanne Don't you have...</td>\n",
       "    </tr>\n",
       "    <tr>\n",
       "      <th>5870</th>\n",
       "      <td>Neither</td>\n",
       "      <td>ABC drops Roseanne show after racist tweet htt...</td>\n",
       "    </tr>\n",
       "    <tr>\n",
       "      <th>5871</th>\n",
       "      <td>Pro-Roseanne</td>\n",
       "      <td>@TorahLectures sign it!! i want Roseanne seaso...</td>\n",
       "    </tr>\n",
       "    <tr>\n",
       "      <th>5872</th>\n",
       "      <td>Neither</td>\n",
       "      <td>@intheMatrixxx @therealroseanne @ChelseaClinto...</td>\n",
       "    </tr>\n",
       "    <tr>\n",
       "      <th>5873</th>\n",
       "      <td>Neither</td>\n",
       "      <td>@poniewozik Hey James</td>\n",
       "    </tr>\n",
       "    <tr>\n",
       "      <th>5874</th>\n",
       "      <td>Neither</td>\n",
       "      <td>Roseanne</td>\n",
       "    </tr>\n",
       "    <tr>\n",
       "      <th>5875</th>\n",
       "      <td>Pro-Roseanne</td>\n",
       "      <td>@RAMRANTS Why doesn't the left suck it up beca...</td>\n",
       "    </tr>\n",
       "  </tbody>\n",
       "</table>\n",
       "<p>5876 rows × 2 columns</p>\n",
       "</div>"
      ],
      "text/plain": [
       "               Code                                              Tweet\n",
       "0           Neither                                       RoseanneBarr\n",
       "1           Neither  @iAmLoraG @therealroseanne that's my ted talk....\n",
       "2     Anti-Roseanne  @axios @therealroseanne @realDonaldTrump one r...\n",
       "3     Anti-Roseanne                              @therealroseanne Bye!\n",
       "4     Anti-Roseanne  @JustinUtley @Stefanoooch @cnnbrk Roseanne del...\n",
       "5      Pro-Roseanne  .@therealroseanne they were looking for a reas...\n",
       "6     Anti-Roseanne  @POTUS_Don45 @Melissa89431446 @therealroseanne...\n",
       "7     Anti-Roseanne                  Yayyyyy! Buh-bye @therealroseanne\n",
       "8           Neither  Robert Iger on the cancellation of 'Roseanne' ...\n",
       "9           Neither  @ryan90_chris @FoxNews @KevinCate @dailybriefi...\n",
       "10          Neither  @AmandaNHardwic1 @attridgj @CaughtYa164 @there...\n",
       "11    Anti-Roseanne  Dear @ABCNetwork thank you for canceling @ther...\n",
       "12    Anti-Roseanne  @Glinner You can almost  guarantee that Rod Li...\n",
       "13          Neither  BREAKING: ABC cancels Roseanne - https://t.co/...\n",
       "14          Neither  Roseanne' Canceled by ABC After Roseanne Barr'...\n",
       "15          Neither  @Toure lol 'toure' has a podcast Roseanne.  KE...\n",
       "16    Anti-Roseanne                   So self-centered Trump supporter\n",
       "17          Neither                                           Roseanne\n",
       "18          Neither  @starofthenight5 @therealroseanne I bet you pr...\n",
       "19     Pro-Roseanne                                 Roseanne innocent!\n",
       "20    Anti-Roseanne  I was a fan of the old Roseanne show now I'll ...\n",
       "21    Anti-Roseanne  Surprised they finally cancelled Roseanne cons...\n",
       "22          Neither          @therealroseanne  https://t.co/TeG3pq3GDw\n",
       "23          Neither  Mmmmm not being rude but Sara Gilbert's involv...\n",
       "24    Anti-Roseanne  @CarJoJoe @TT45Pac @therealroseanne Asshole = ...\n",
       "25    Anti-Roseanne  @Jordan_Sather_ @therealroseanne What lie? Did...\n",
       "26          Neither        @emrazz And @ABCNetwork cancelled Roseanne!\n",
       "27          Neither  @intheMatrixxx @therealroseanne @snopes @ander...\n",
       "28          Neither  @mojopo @therealroseanne @ChelseaClinton @Open...\n",
       "29          Neither                                           Roseanne\n",
       "...             ...                                                ...\n",
       "5846        Neither                                     RoseanneBarred\n",
       "5847        Neither  @FgtTheOligarchy @therealroseanne What did he ...\n",
       "5848   Pro-Roseanne  ABC/ Disney has a double standard like no othe...\n",
       "5849   Pro-Roseanne                       not good folks Roseanne Barr\n",
       "5850  Anti-Roseanne  [1 yr ago] ABC boardroom: We're confident the ...\n",
       "5851  Anti-Roseanne  when you're company makes news ..  for doing t...\n",
       "5852   Pro-Roseanne  @ABCNetwork FUCK ABC for cancelling Roseanne y...\n",
       "5853        Neither  HuffPostWomen: \"Roseanne's Twitter statement i...\n",
       "5854        Neither  Maybe replace Roseanne with a New Orleans-set ...\n",
       "5855        Neither  @realDonaldTrump  I am anxiously looking forwa...\n",
       "5856  Anti-Roseanne  ABC cancels 'Roseanne' after star's racist.   ...\n",
       "5857        Neither                                         SheTriedIt\n",
       "5858   Pro-Roseanne          Extremely turgid about this Roseanne news\n",
       "5859        Neither                                    TeluguSamethalu\n",
       "5860  Anti-Roseanne  @brick_lisa @alt_labor @therealroseanne Did yo...\n",
       "5861  Anti-Roseanne                     @therealroseanne Chicken shit.\n",
       "5862   Pro-Roseanne  @therealroseanne Unbelievable that comedy is c...\n",
       "5863  Anti-Roseanne                             roseanne was cancelled\n",
       "5864  Anti-Roseanne  @ShaunKing Well done @ShaunKing 'ABC says it h...\n",
       "5865  Anti-Roseanne  @therealroseanne  take your bullshit elsewhere...\n",
       "5866   Pro-Roseanne  We ALL make mistakes.  Roseanne apologized. Sh...\n",
       "5867  Anti-Roseanne  @ReneePostula @therealroseanne Dummy.....it on...\n",
       "5868  Anti-Roseanne  Is it appropriate to call Roseanne a bitch? I'...\n",
       "5869        Neither  @RealAlexJones @therealroseanne Don't you have...\n",
       "5870        Neither  ABC drops Roseanne show after racist tweet htt...\n",
       "5871   Pro-Roseanne  @TorahLectures sign it!! i want Roseanne seaso...\n",
       "5872        Neither  @intheMatrixxx @therealroseanne @ChelseaClinto...\n",
       "5873        Neither                              @poniewozik Hey James\n",
       "5874        Neither                                           Roseanne\n",
       "5875   Pro-Roseanne  @RAMRANTS Why doesn't the left suck it up beca...\n",
       "\n",
       "[5876 rows x 2 columns]"
      ]
     },
     "execution_count": 3,
     "metadata": {},
     "output_type": "execute_result"
    }
   ],
   "source": [
    "df"
   ]
  },
  {
   "cell_type": "markdown",
   "metadata": {},
   "source": [
    "## Import stop words"
   ]
  },
  {
   "cell_type": "code",
   "execution_count": 4,
   "metadata": {},
   "outputs": [
    {
     "name": "stdout",
     "output_type": "stream",
     "text": [
      "[nltk_data] Downloading package stopwords to\n",
      "[nltk_data]     C:\\Users\\Mrinal\\AppData\\Roaming\\nltk_data...\n",
      "[nltk_data]   Package stopwords is already up-to-date!\n"
     ]
    }
   ],
   "source": [
    "import re\n",
    "import nltk\n",
    "nltk.download('stopwords')\n",
    "from nltk.corpus import stopwords\n",
    "from nltk.stem.porter import PorterStemmer"
   ]
  },
  {
   "cell_type": "markdown",
   "metadata": {},
   "source": [
    "## Remove punctuation, special characters and stop words from the tweets"
   ]
  },
  {
   "cell_type": "code",
   "execution_count": 5,
   "metadata": {
    "collapsed": true
   },
   "outputs": [],
   "source": [
    "corpus = []\n",
    "\n",
    "for i in range(0, 5876):\n",
    "    tweets = re.sub('[^a-zA-Z]', ' ', df['Tweet'][i])\n",
    "    tweets = tweets.lower()\n",
    "    tweets = tweets.split()\n",
    "    ps = PorterStemmer()\n",
    "    tweets = [ps.stem(words) for words in tweets if not words in stopwords.words('english')]\n",
    "    tweets = ' '.join(tweets)\n",
    "    corpus.append(tweets)"
   ]
  },
  {
   "cell_type": "markdown",
   "metadata": {},
   "source": [
    "## Convert the Xs to a matrix where each column is a word from the tweet and the row values represent the word count that appears in the particular tweet "
   ]
  },
  {
   "cell_type": "code",
   "execution_count": 6,
   "metadata": {
    "collapsed": true
   },
   "outputs": [],
   "source": [
    "from sklearn.feature_extraction.text import CountVectorizer\n",
    "cv = CountVectorizer()\n",
    "X = cv.fit_transform(corpus).toarray()\n",
    "y = df.iloc[ : , 0].values"
   ]
  },
  {
   "cell_type": "code",
   "execution_count": 7,
   "metadata": {},
   "outputs": [
    {
     "data": {
      "text/plain": [
       "(5876, 9290)"
      ]
     },
     "execution_count": 7,
     "metadata": {},
     "output_type": "execute_result"
    }
   ],
   "source": [
    "X.shape"
   ]
  },
  {
   "cell_type": "code",
   "execution_count": 8,
   "metadata": {},
   "outputs": [
    {
     "data": {
      "text/plain": [
       "array(['Neither', 'Neither', 'Anti-Roseanne', ..., 'Neither', 'Neither',\n",
       "       'Pro-Roseanne'], dtype=object)"
      ]
     },
     "execution_count": 8,
     "metadata": {},
     "output_type": "execute_result"
    }
   ],
   "source": [
    "y"
   ]
  },
  {
   "cell_type": "code",
   "execution_count": 9,
   "metadata": {},
   "outputs": [
    {
     "data": {
      "text/plain": [
       "(5876,)"
      ]
     },
     "execution_count": 9,
     "metadata": {},
     "output_type": "execute_result"
    }
   ],
   "source": [
    "y.shape"
   ]
  },
  {
   "cell_type": "markdown",
   "metadata": {},
   "source": [
    "## Train Test Split"
   ]
  },
  {
   "cell_type": "code",
   "execution_count": 10,
   "metadata": {
    "collapsed": true
   },
   "outputs": [],
   "source": [
    "from sklearn.model_selection import train_test_split\n",
    "X_train, X_test, y_train, y_test = train_test_split(X, y, test_size = .20, \n",
    "                                                    random_state = 0)\n",
    "\n"
   ]
  },
  {
   "cell_type": "markdown",
   "metadata": {},
   "source": [
    "## Apply Naive Bayes"
   ]
  },
  {
   "cell_type": "code",
   "execution_count": 11,
   "metadata": {},
   "outputs": [
    {
     "data": {
      "text/plain": [
       "GaussianNB(priors=None)"
      ]
     },
     "execution_count": 11,
     "metadata": {},
     "output_type": "execute_result"
    }
   ],
   "source": [
    "from sklearn.naive_bayes import GaussianNB\n",
    "nb = GaussianNB()\n",
    "nb.fit(X_train, y_train)"
   ]
  },
  {
   "cell_type": "code",
   "execution_count": 12,
   "metadata": {
    "collapsed": true
   },
   "outputs": [],
   "source": [
    "y_pred = nb.predict(X_test)\n",
    "y_pred_prob = nb.predict_proba(X_test) [: , 1]\n"
   ]
  },
  {
   "cell_type": "code",
   "execution_count": 16,
   "metadata": {},
   "outputs": [
    {
     "data": {
      "text/plain": [
       "array([[292,  92,  38],\n",
       "       [ 89, 451,  21],\n",
       "       [ 53,  38, 102]], dtype=int64)"
      ]
     },
     "execution_count": 16,
     "metadata": {},
     "output_type": "execute_result"
    }
   ],
   "source": [
    "from sklearn.metrics import confusion_matrix\n",
    "confusion_matrix(y_test, y_pred)"
   ]
  },
  {
   "cell_type": "code",
   "execution_count": 14,
   "metadata": {
    "collapsed": true
   },
   "outputs": [],
   "source": [
    "from sklearn.metrics import classification_report"
   ]
  },
  {
   "cell_type": "code",
   "execution_count": 15,
   "metadata": {},
   "outputs": [
    {
     "data": {
      "text/plain": [
       "'               precision    recall  f1-score   support\\n\\nAnti-Roseanne       0.56      0.49      0.52       422\\n      Neither       0.67      0.22      0.34       561\\n Pro-Roseanne       0.22      0.70      0.34       193\\n\\n  avg / total       0.56      0.40      0.40      1176\\n'"
      ]
     },
     "execution_count": 15,
     "metadata": {},
     "output_type": "execute_result"
    }
   ],
   "source": [
    "classification_report(y_test, y_pred)"
   ]
  },
  {
   "cell_type": "code",
   "execution_count": 19,
   "metadata": {},
   "outputs": [
    {
     "data": {
      "text/plain": [
       "0.71853741496598644"
      ]
     },
     "execution_count": 19,
     "metadata": {},
     "output_type": "execute_result"
    }
   ],
   "source": [
    "from sklearn.metrics import accuracy_score\n",
    "accuracy_score(y_test, y_pred)"
   ]
  },
  {
   "cell_type": "markdown",
   "metadata": {},
   "source": [
    "## Apply Random Forest"
   ]
  },
  {
   "cell_type": "code",
   "execution_count": 17,
   "metadata": {},
   "outputs": [
    {
     "data": {
      "text/plain": [
       "RandomForestClassifier(bootstrap=True, class_weight=None, criterion='entropy',\n",
       "            max_depth=None, max_features=0.25, max_leaf_nodes=None,\n",
       "            min_impurity_decrease=0.0, min_impurity_split=None,\n",
       "            min_samples_leaf=1, min_samples_split=2,\n",
       "            min_weight_fraction_leaf=0.0, n_estimators=500, n_jobs=1,\n",
       "            oob_score=False, random_state=None, verbose=0,\n",
       "            warm_start=False)"
      ]
     },
     "execution_count": 17,
     "metadata": {},
     "output_type": "execute_result"
    }
   ],
   "source": [
    "from sklearn.ensemble import RandomForestClassifier\n",
    "rf = RandomForestClassifier(n_estimators= 500, max_features = .25, criterion='entropy' )\n",
    "rf.fit(X_train, y_train)"
   ]
  },
  {
   "cell_type": "code",
   "execution_count": 18,
   "metadata": {
    "collapsed": true
   },
   "outputs": [],
   "source": [
    "y_pred = rf.predict(X_test)\n",
    "y_pred_prob = rf.predict_proba(X_test) [: , 1]"
   ]
  },
  {
   "cell_type": "code",
   "execution_count": 19,
   "metadata": {},
   "outputs": [
    {
     "data": {
      "text/plain": [
       "array([[287, 116,  19],\n",
       "       [ 81, 460,  20],\n",
       "       [ 52,  53,  88]], dtype=int64)"
      ]
     },
     "execution_count": 19,
     "metadata": {},
     "output_type": "execute_result"
    }
   ],
   "source": [
    "from sklearn.metrics import confusion_matrix,accuracy_score,auc\n",
    "confusion_matrix(y_test, y_pred)"
   ]
  },
  {
   "cell_type": "code",
   "execution_count": 20,
   "metadata": {},
   "outputs": [
    {
     "data": {
      "text/plain": [
       "0.71003401360544216"
      ]
     },
     "execution_count": 20,
     "metadata": {},
     "output_type": "execute_result"
    }
   ],
   "source": [
    "accuracy_score(y_test, y_pred)"
   ]
  },
  {
   "cell_type": "code",
   "execution_count": 21,
   "metadata": {},
   "outputs": [
    {
     "data": {
      "text/plain": [
       "'               precision    recall  f1-score   support\\n\\nAnti-Roseanne       0.68      0.68      0.68       422\\n      Neither       0.73      0.82      0.77       561\\n Pro-Roseanne       0.69      0.46      0.55       193\\n\\n  avg / total       0.71      0.71      0.70      1176\\n'"
      ]
     },
     "execution_count": 21,
     "metadata": {},
     "output_type": "execute_result"
    }
   ],
   "source": [
    "classification_report(y_test, y_pred)"
   ]
  },
  {
   "cell_type": "markdown",
   "metadata": {},
   "source": [
    "## Apply Light GBM\n"
   ]
  },
  {
   "cell_type": "code",
   "execution_count": 22,
   "metadata": {},
   "outputs": [
    {
     "data": {
      "text/plain": [
       "LGBMClassifier(boosting_type='gbdt', class_weight=None, colsample_bytree=1.0,\n",
       "        learning_rate=0.01, loss='deviance', max_depth=3,\n",
       "        max_features='log2', min_child_samples=20, min_child_weight=0.001,\n",
       "        min_split_gain=0.0, n_estimators=500, n_jobs=-1, num_leaves=31,\n",
       "        objective=None, random_state=None, reg_alpha=0.0, reg_lambda=0.0,\n",
       "        silent=True, subsample=1.0, subsample_for_bin=200000,\n",
       "        subsample_freq=0)"
      ]
     },
     "execution_count": 22,
     "metadata": {},
     "output_type": "execute_result"
    }
   ],
   "source": [
    "from lightgbm.sklearn import LGBMClassifier\n",
    "lgb = LGBMClassifier(learning_rate = .01, max_depth = 3, max_features = \"log2\" ,loss = 'deviance', n_estimators = 500)\n",
    "lgb.fit(X_train, y_train)"
   ]
  },
  {
   "cell_type": "code",
   "execution_count": 23,
   "metadata": {
    "collapsed": true
   },
   "outputs": [],
   "source": [
    "y_pred = lgb.predict(X_test)\n",
    "y_pred_prob = lgb.predict_proba(X_test) [: , 1]"
   ]
  },
  {
   "cell_type": "code",
   "execution_count": 24,
   "metadata": {},
   "outputs": [
    {
     "data": {
      "text/plain": [
       "array([[205, 207,  10],\n",
       "       [ 32, 520,   9],\n",
       "       [ 45, 104,  44]], dtype=int64)"
      ]
     },
     "execution_count": 24,
     "metadata": {},
     "output_type": "execute_result"
    }
   ],
   "source": [
    "confusion_matrix(y_test, y_pred)"
   ]
  },
  {
   "cell_type": "code",
   "execution_count": 25,
   "metadata": {},
   "outputs": [
    {
     "data": {
      "text/plain": [
       "0.65391156462585032"
      ]
     },
     "execution_count": 25,
     "metadata": {},
     "output_type": "execute_result"
    }
   ],
   "source": [
    "accuracy_score(y_test, y_pred)"
   ]
  },
  {
   "cell_type": "markdown",
   "metadata": {},
   "source": [
    "## Apply logistic regression"
   ]
  },
  {
   "cell_type": "code",
   "execution_count": 12,
   "metadata": {
    "collapsed": true
   },
   "outputs": [],
   "source": [
    "from sklearn.linear_model import LogisticRegression\n",
    "from sklearn.svm import SVC"
   ]
  },
  {
   "cell_type": "code",
   "execution_count": 27,
   "metadata": {},
   "outputs": [
    {
     "data": {
      "text/plain": [
       "LogisticRegression(C=1.5, class_weight=None, dual=False, fit_intercept=True,\n",
       "          intercept_scaling=1, max_iter=100, multi_class='ovr', n_jobs=1,\n",
       "          penalty='l1', random_state=None, solver='liblinear', tol=0.0001,\n",
       "          verbose=0, warm_start=False)"
      ]
     },
     "execution_count": 27,
     "metadata": {},
     "output_type": "execute_result"
    }
   ],
   "source": [
    "log = LogisticRegression(C =1.5, penalty='l1')\n",
    "log.fit(X_train, y_train)"
   ]
  },
  {
   "cell_type": "code",
   "execution_count": 28,
   "metadata": {
    "collapsed": true
   },
   "outputs": [],
   "source": [
    "y_pred = log.predict(X_test)\n",
    "y_pred_prob = log.predict_proba(X_test) [: , 1]"
   ]
  },
  {
   "cell_type": "code",
   "execution_count": 29,
   "metadata": {},
   "outputs": [
    {
     "data": {
      "text/plain": [
       "array([[286, 116,  20],\n",
       "       [ 56, 482,  23],\n",
       "       [ 45,  54,  94]], dtype=int64)"
      ]
     },
     "execution_count": 29,
     "metadata": {},
     "output_type": "execute_result"
    }
   ],
   "source": [
    "confusion_matrix(y_test, y_pred)"
   ]
  },
  {
   "cell_type": "code",
   "execution_count": 30,
   "metadata": {},
   "outputs": [
    {
     "data": {
      "text/plain": [
       "0.73299319727891155"
      ]
     },
     "execution_count": 30,
     "metadata": {},
     "output_type": "execute_result"
    }
   ],
   "source": [
    "accuracy_score(y_test, y_pred)"
   ]
  },
  {
   "cell_type": "markdown",
   "metadata": {},
   "source": [
    "## SVC"
   ]
  },
  {
   "cell_type": "code",
   "execution_count": 13,
   "metadata": {},
   "outputs": [
    {
     "data": {
      "text/plain": [
       "SVC(C=1, cache_size=200, class_weight=None, coef0=10.0,\n",
       "  decision_function_shape='ovr', degree=3, gamma=0.1, kernel='poly',\n",
       "  max_iter=-1, probability=True, random_state=None, shrinking=True,\n",
       "  tol=0.001, verbose=False)"
      ]
     },
     "execution_count": 13,
     "metadata": {},
     "output_type": "execute_result"
    }
   ],
   "source": [
    "svc = SVC(C = 1, kernel = 'poly', coef0=10.0,gamma=.1,probability = True,random_state= 1)\n",
    "svc.fit(X_train, y_train)"
   ]
  },
  {
   "cell_type": "code",
   "execution_count": 14,
   "metadata": {
    "collapsed": true
   },
   "outputs": [],
   "source": [
    "y_pred = svc.predict(X_test)\n",
    "y_pred_prob = svc.predict_proba(X_test) [: , 1]"
   ]
  },
  {
   "cell_type": "code",
   "execution_count": 17,
   "metadata": {},
   "outputs": [
    {
     "data": {
      "text/plain": [
       "array([[292,  92,  38],\n",
       "       [ 89, 451,  21],\n",
       "       [ 53,  38, 102]], dtype=int64)"
      ]
     },
     "execution_count": 17,
     "metadata": {},
     "output_type": "execute_result"
    }
   ],
   "source": [
    "confusion_matrix(y_test, y_pred)"
   ]
  },
  {
   "cell_type": "code",
   "execution_count": 20,
   "metadata": {},
   "outputs": [
    {
     "data": {
      "text/plain": [
       "0.71853741496598644"
      ]
     },
     "execution_count": 20,
     "metadata": {},
     "output_type": "execute_result"
    }
   ],
   "source": [
    "accuracy_score(y_test, y_pred)"
   ]
  },
  {
   "cell_type": "code",
   "execution_count": null,
   "metadata": {
    "collapsed": true
   },
   "outputs": [],
   "source": []
  }
 ],
 "metadata": {
  "kernelspec": {
   "display_name": "Python 3",
   "language": "python",
   "name": "python3"
  },
  "language_info": {
   "codemirror_mode": {
    "name": "ipython",
    "version": 3
   },
   "file_extension": ".py",
   "mimetype": "text/x-python",
   "name": "python",
   "nbconvert_exporter": "python",
   "pygments_lexer": "ipython3",
   "version": "3.6.3"
  }
 },
 "nbformat": 4,
 "nbformat_minor": 2
}
